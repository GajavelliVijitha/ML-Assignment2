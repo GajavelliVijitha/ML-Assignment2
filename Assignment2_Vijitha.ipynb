{
  "nbformat": 4,
  "nbformat_minor": 0,
  "metadata": {
    "colab": {
      "provenance": []
    },
    "kernelspec": {
      "name": "python3",
      "display_name": "Python 3"
    },
    "language_info": {
      "name": "python"
    }
  },
  "cells": [
    {
      "cell_type": "markdown",
      "source": [
        "# **QUESTION 1**"
      ],
      "metadata": {
        "id": "pI7QiM1N1Dtu"
      }
    },
    {
      "cell_type": "code",
      "source": [
        "#Use a python code to display the following star pattern using the for loop\n",
        "for i in range (1,10):\n",
        "    if(i<6):\n",
        "        for j in range(0,i):\n",
        "            print(\"*\",end=\" \")\n",
        "        print(\"\")\n",
        "    else:\n",
        "        x=i-5\n",
        "        for j in range(0,5-x):\n",
        "            print(\"*\",end=\" \")\n",
        "        print(\"\")"
      ],
      "metadata": {
        "colab": {
          "base_uri": "https://localhost:8080/"
        },
        "id": "4lasi-ov1L3K",
        "outputId": "6036680c-837b-4fad-bce4-6eda7316c376"
      },
      "execution_count": 13,
      "outputs": [
        {
          "output_type": "stream",
          "name": "stdout",
          "text": [
            "* \n",
            "* * \n",
            "* * * \n",
            "* * * * \n",
            "* * * * * \n",
            "* * * * \n",
            "* * * \n",
            "* * \n",
            "* \n"
          ]
        }
      ]
    },
    {
      "cell_type": "markdown",
      "source": [
        "**QUESTION 2**"
      ],
      "metadata": {
        "id": "cgp5e5Ov2Ed3"
      }
    },
    {
      "cell_type": "code",
      "source": [
        "#Use looping to output the elements from a provided list present at odd indexes.\n",
        "my_list = [10, 20, 30, 40, 50, 60, 70, 80, 90, 100]\n",
        "for i in range(0,len(my_list)):\n",
        "    if(i%2==1):\n",
        "        print(my_list[i])"
      ],
      "metadata": {
        "colab": {
          "base_uri": "https://localhost:8080/"
        },
        "id": "EPIODJ6j2OL6",
        "outputId": "01b37b52-ffab-4368-92f0-6302f59cf5db"
      },
      "execution_count": 14,
      "outputs": [
        {
          "output_type": "stream",
          "name": "stdout",
          "text": [
            "20\n",
            "40\n",
            "60\n",
            "80\n",
            "100\n"
          ]
        }
      ]
    },
    {
      "cell_type": "markdown",
      "source": [
        "**QUESTION 3**"
      ],
      "metadata": {
        "id": "q56omoxM2bvZ"
      }
    },
    {
      "cell_type": "code",
      "source": [
        "#Write a code that appends the type of elements from a given list.\n",
        "input\n",
        "x = [23, 'Python', 23.98]\n",
        "xt=[]\n",
        "for i in x:\n",
        "    xt.append(type(i))\n",
        "print(x)\n",
        "print(xt)"
      ],
      "metadata": {
        "colab": {
          "base_uri": "https://localhost:8080/"
        },
        "id": "nYMVjpDq2eib",
        "outputId": "e6594676-ce74-4adf-de61-8d3800e9e056"
      },
      "execution_count": 16,
      "outputs": [
        {
          "output_type": "stream",
          "name": "stdout",
          "text": [
            "[23, 'Python', 23.98]\n",
            "[<class 'int'>, <class 'str'>, <class 'float'>]\n"
          ]
        }
      ]
    },
    {
      "cell_type": "markdown",
      "source": [
        "**QUESTION 4**"
      ],
      "metadata": {
        "id": "gSLL_9Xm2ptQ"
      }
    },
    {
      "cell_type": "code",
      "source": [
        "#Write a function that takes a list and returns a new list with unique items of the first list\n",
        "Sample_List=[1,2,3,3,3,3,4,5]\n",
        "Unique_List=list(set(Sample_List))\n",
        "print(Unique_List)"
      ],
      "metadata": {
        "colab": {
          "base_uri": "https://localhost:8080/"
        },
        "id": "zxXK11_c2shU",
        "outputId": "e45d581b-f988-424f-81d2-cd30972273f2"
      },
      "execution_count": 17,
      "outputs": [
        {
          "output_type": "stream",
          "name": "stdout",
          "text": [
            "[1, 2, 3, 4, 5]\n"
          ]
        }
      ]
    },
    {
      "cell_type": "markdown",
      "source": [
        "**QUESTION 5**"
      ],
      "metadata": {
        "id": "1DDYlyP121aS"
      }
    },
    {
      "cell_type": "code",
      "source": [
        "#Write a function that accepts a string and calculate the number of upper-case letters and lower-case letters.\n",
        "Input_String='The quick Brow Fox'\n",
        "uppercasealpha=0\n",
        "lowercasealpha=0\n",
        "for i in Input_String:\n",
        "    if(i.isupper()):\n",
        "        uppercasealpha+=1\n",
        "    else:\n",
        "        if(i.islower()):\n",
        "            lowercasealpha+=1\n",
        "print(\"No. of Upper-case characters: \"+str(uppercasealpha))\n",
        "print(\"No. of Lowwer-case characters: \"+str(lowercasealpha))"
      ],
      "metadata": {
        "colab": {
          "base_uri": "https://localhost:8080/"
        },
        "id": "N54Ql8vM24nl",
        "outputId": "83b01504-de15-4e30-c65f-04727f80c8d8"
      },
      "execution_count": 20,
      "outputs": [
        {
          "output_type": "stream",
          "name": "stdout",
          "text": [
            "No. of Upper-case characters: 3\n",
            "No. of Lowwer-case characters: 12\n"
          ]
        }
      ]
    },
    {
      "cell_type": "code",
      "source": [],
      "metadata": {
        "id": "RDeWVSob27zB"
      },
      "execution_count": null,
      "outputs": []
    }
  ]
}